{
  "nbformat": 4,
  "nbformat_minor": 0,
  "metadata": {
    "colab": {
      "provenance": [],
      "authorship_tag": "ABX9TyO089sJ4HHmJ67jH14bpfcl",
      "include_colab_link": true
    },
    "kernelspec": {
      "name": "python3",
      "display_name": "Python 3"
    },
    "language_info": {
      "name": "python"
    }
  },
  "cells": [
    {
      "cell_type": "markdown",
      "metadata": {
        "id": "view-in-github",
        "colab_type": "text"
      },
      "source": [
        "<a href=\"https://colab.research.google.com/github/CodeWithHuzaifa-505/Titanic-ML-project/blob/main/Titanic_Practice.ipynb\" target=\"_parent\"><img src=\"https://colab.research.google.com/assets/colab-badge.svg\" alt=\"Open In Colab\"/></a>"
      ]
    },
    {
      "cell_type": "code",
      "execution_count": null,
      "metadata": {
        "id": "lBR4Gmrc4vIv"
      },
      "outputs": [],
      "source": [
        "import pandas as pd\n",
        "from sklearn.model_selection import train_test_split\n",
        "from sklearn.preprocessing import StandardScaler\n",
        "from sklearn.linear_model import LogisticRegression\n",
        "from sklearn.tree import DecisionTreeClassifier\n",
        "from sklearn.ensemble import RandomForestClassifier\n",
        "from sklearn.metrics import accuracy_score, precision_score, recall_score"
      ]
    },
    {
      "cell_type": "code",
      "source": [
        "# Day 2: Load CSV & Explore Data\n",
        "# ============================\n",
        "df = pd.read_csv(\"/content/titanic.csv\")\n",
        "print(\"===== Head =====\")\n",
        "print(df.head())\n",
        "print(\"\\n===== Info =====\")\n",
        "print(df.info())\n",
        "print(\"\\n===== Describe =====\")\n",
        "print(df.describe())"
      ],
      "metadata": {
        "id": "TETT8l-16UVg"
      },
      "execution_count": null,
      "outputs": []
    },
    {
      "cell_type": "code",
      "source": [
        "# Day 3: Handle Missing Values & Clean Data\n",
        "# ============================\n",
        "# Drop useless constant columns (those starting with 'zero')\n",
        "zero_cols = [col for col in df.columns if col.startswith(\"zero\")]\n",
        "df.drop(columns=zero_cols, inplace=True)\n",
        "\n",
        "# Fill missing Embarked values with mode\n",
        "df['Embarked'].fillna(df['Embarked'].mode()[0], inplace=True)\n",
        "\n",
        "# Features & Target\n",
        "X = df[['Pclass', 'Sex', 'Age', 'sibsp', 'Parch', 'Fare', 'Embarked']]\n",
        "y = df['2urvived']\n"
      ],
      "metadata": {
        "id": "923JbQh87KK-"
      },
      "execution_count": null,
      "outputs": []
    },
    {
      "cell_type": "code",
      "source": [
        "# Day 4: Train Logistic Regression\n",
        "# ============================\n",
        "# Split dataset\n",
        "X_train, X_test, y_train, y_test = train_test_split(X, y, test_size=0.2, random_state=42)\n",
        "\n",
        "# Scale features\n",
        "scaler = StandardScaler()\n",
        "X_train = scaler.fit_transform(X_train)\n",
        "X_test = scaler.transform(X_test)\n",
        "\n",
        "# Train model\n",
        "log_model = LogisticRegression(max_iter=200)\n",
        "log_model.fit(X_train, y_train)\n"
      ],
      "metadata": {
        "id": "cmYLN23S79rk"
      },
      "execution_count": null,
      "outputs": []
    },
    {
      "cell_type": "code",
      "source": [
        "# Day 5: Evaluate Logistic Regression\n",
        "# ============================\n",
        "y_pred_log = log_model.predict(X_test)\n",
        "print(\"\\nLogistic Regression:\")\n",
        "print(\"Accuracy:\", accuracy_score(y_test, y_pred_log))\n",
        "print(\"Precision:\", precision_score(y_test, y_pred_log))\n",
        "print(\"Recall:\", recall_score(y_test, y_pred_log))"
      ],
      "metadata": {
        "id": "le80B4bI8ZJo"
      },
      "execution_count": null,
      "outputs": []
    },
    {
      "cell_type": "code",
      "source": [
        "# Day 6: Try Decision Tree & Random Forest\n",
        "# ============================\n",
        "# Decision Tree\n",
        "dt_model = DecisionTreeClassifier()\n",
        "dt_model.fit(X_train, y_train)\n",
        "y_pred_dt = dt_model.predict(X_test)\n",
        "print(\"\\nDecision Tree:\")\n",
        "print(\"Accuracy:\", accuracy_score(y_test, y_pred_dt))\n",
        "print(\"Precision:\", precision_score(y_test, y_pred_dt))\n",
        "print(\"Recall:\", recall_score(y_test, y_pred_dt))\n",
        "\n",
        "\n",
        "\n",
        "# Random Forest\n",
        "rf_model = RandomForestClassifier()\n",
        "rf_model.fit(X_train, y_train)\n",
        "y_pred_rf = rf_model.predict(X_test)\n",
        "print(\"\\nRandom Forest:\")\n",
        "print(\"Accuracy:\", accuracy_score(y_test, y_pred_rf))\n",
        "print(\"Precision:\", precision_score(y_test, y_pred_rf))\n",
        "print(\"Recall:\", recall_score(y_test, y_pred_rf))"
      ],
      "metadata": {
        "id": "Iy-hVa5I8yOd"
      },
      "execution_count": null,
      "outputs": []
    }
  ]
}